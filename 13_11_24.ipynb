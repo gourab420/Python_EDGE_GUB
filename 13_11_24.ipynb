{
  "nbformat": 4,
  "nbformat_minor": 0,
  "metadata": {
    "colab": {
      "provenance": []
    },
    "kernelspec": {
      "name": "python3",
      "display_name": "Python 3"
    },
    "language_info": {
      "name": "python"
    }
  },
  "cells": [
    {
      "cell_type": "code",
      "execution_count": null,
      "metadata": {
        "id": "AGfwwloTBV5w",
        "colab": {
          "base_uri": "https://localhost:8080/"
        },
        "outputId": "299c8894-a2af-465c-9e40-d058b79425e7"
      },
      "outputs": [
        {
          "output_type": "stream",
          "name": "stdout",
          "text": [
            "Enter you number38\n",
            "you fail\n"
          ]
        }
      ],
      "source": [
        "#else if\n",
        "N=int(input(\"Enter you number\"))\n",
        "if(N<40):\n",
        "  print(\"you fail\")\n",
        "elif(40<=N<50):\n",
        "  print(\"Grade:D\")\n",
        "elif(50<=N<55):\n",
        "  print(\"Grade:C\")\n",
        "elif(55<=N<60):\n",
        "  print(\"Grade:B-\")\n",
        "elif(60<=N<65):\n",
        "  print(\"Grade:B\")\n",
        "elif(65<=N<70):\n",
        "  print(\"Grade:B+\")\n",
        "elif(70<=N<75):\n",
        "  print(\"Grade:A-\")\n",
        "elif(75<=N<80):\n",
        "  print(\"Grade:A\")\n",
        "elif(80<=N<101):\n",
        "  print(\"Grade:A+\")"
      ]
    },
    {
      "cell_type": "code",
      "source": [
        "N=int(input(\"Enter you number\"))\n",
        "if(N>=40):\n",
        "  if(40<=N<50):\n",
        "    print(\"Grade:D\")\n",
        "  if(50<=N<55):\n",
        "    print(\"Grade:C\")\n",
        "  if(55<=N<60):\n",
        "    print(\"Grade:B-\")\n",
        "  if(60<=N<65):\n",
        "    print(\"Grade:B\")\n",
        "  if(65<=N<70):\n",
        "    print(\"Grade:B+\")\n",
        "  if(70<=N<75):\n",
        "    print(\"Grade:A-\")\n",
        "  if(75<=N<80):\n",
        "    print(\"Grade:A\")\n",
        "  if(80<=N<101):\n",
        "    print(\"Grade:A+\")\n",
        "else:\n",
        "  print(\"you fail\")"
      ],
      "metadata": {
        "colab": {
          "base_uri": "https://localhost:8080/"
        },
        "id": "MDn7Zo-eCnNF",
        "outputId": "a0e243d0-ac64-4056-960f-ba6b48d8a64b"
      },
      "execution_count": null,
      "outputs": [
        {
          "output_type": "stream",
          "name": "stdout",
          "text": [
            "Enter you number42\n",
            "Grade:D\n"
          ]
        }
      ]
    },
    {
      "cell_type": "code",
      "source": [
        "#problem 1\n",
        "n=int(input(\"enter a digit:\"))\n",
        "if n%3==0 and n%5==0:\n",
        "  print(\"Divisible by 3 and 5\")\n",
        "else:\n",
        "  print(\"Not Divisible by 3 and 5\")\n"
      ],
      "metadata": {
        "colab": {
          "base_uri": "https://localhost:8080/"
        },
        "id": "piFKp1cBDH5S",
        "outputId": "732b7695-9656-4f23-9041-516ef63f8b5f"
      },
      "execution_count": null,
      "outputs": [
        {
          "output_type": "stream",
          "name": "stdout",
          "text": [
            "enter a digit:15\n",
            "Divisible by 3 and 5\n"
          ]
        }
      ]
    },
    {
      "cell_type": "code",
      "source": [
        "#problem 2\n",
        "n=int(input(\"enter a digit:\"))\n",
        "sum=0\n",
        "while(1):\n",
        "  if n<=0:\n",
        "    break\n",
        "  else:\n",
        "    m=int(n%10)\n",
        "    sum+=m\n",
        "    n=n/10\n",
        "print(\"sum of digit is \",sum)"
      ],
      "metadata": {
        "colab": {
          "base_uri": "https://localhost:8080/"
        },
        "id": "C1bCELiwdkZG",
        "outputId": "6acf6db2-4219-4794-8db2-a5bf6ddf2bd9"
      },
      "execution_count": null,
      "outputs": [
        {
          "output_type": "stream",
          "name": "stdout",
          "text": [
            "enter a digit:1234\n",
            "sum of digit is  10\n"
          ]
        }
      ]
    },
    {
      "cell_type": "code",
      "source": [
        "#problem 3\n",
        "n=1\n",
        "even=0\n",
        "odd=0\n",
        "while(1):\n",
        "  n=int(input(\"enter a number:\"))\n",
        "  if n==0:\n",
        "    break\n",
        "  else:\n",
        "    if n%2==0:\n",
        "      even+=1\n",
        "    else:\n",
        "      odd+=1\n",
        "  print(\"odd number count is\",odd)\n",
        "  print(\"even number count is\",even)\n",
        "\n",
        "\n"
      ],
      "metadata": {
        "colab": {
          "base_uri": "https://localhost:8080/"
        },
        "id": "0_IXrO83eEmL",
        "outputId": "8def7370-b8e2-4482-c7be-2c9e2ebb8bf6"
      },
      "execution_count": null,
      "outputs": [
        {
          "name": "stdout",
          "output_type": "stream",
          "text": [
            "enter a number:23\n",
            "odd number count is 1\n",
            "even number count is 0\n",
            "enter a number:56\n",
            "odd number count is 1\n",
            "even number count is 1\n",
            "enter a number:0\n"
          ]
        }
      ]
    },
    {
      "cell_type": "code",
      "source": [
        "#problem 4\n",
        "n=int(input(\"enter a digit:\"))\n",
        "sum=1\n",
        "for i in range(n):\n",
        "  sum*=n\n",
        "  n-=1\n",
        "print(\"factorial is\",sum)"
      ],
      "metadata": {
        "colab": {
          "base_uri": "https://localhost:8080/"
        },
        "id": "h-SQ59RbfsGY",
        "outputId": "157b0c3e-4406-434f-cb18-4e18d30116ed"
      },
      "execution_count": null,
      "outputs": [
        {
          "output_type": "stream",
          "name": "stdout",
          "text": [
            "enter a digit:6\n",
            "factorial is 720\n"
          ]
        }
      ]
    },
    {
      "cell_type": "code",
      "source": [
        "#problem 5\n",
        "n=int(input(\"enter a number:\"))\n",
        "for i in range(1,11,1):\n",
        "  if n<13:\n",
        "    print(i,'X',n,'=',i*n)\n",
        "  else:\n",
        "    print(\"wrong input\")\n",
        "    break\n"
      ],
      "metadata": {
        "colab": {
          "base_uri": "https://localhost:8080/"
        },
        "id": "T7b66T6pe67N",
        "outputId": "9672caf0-c072-4750-ea77-c17d080807fb"
      },
      "execution_count": null,
      "outputs": [
        {
          "output_type": "stream",
          "name": "stdout",
          "text": [
            "enter a number:8\n",
            "1 X 8 = 8\n",
            "2 X 8 = 16\n",
            "3 X 8 = 24\n",
            "4 X 8 = 32\n",
            "5 X 8 = 40\n",
            "6 X 8 = 48\n",
            "7 X 8 = 56\n",
            "8 X 8 = 64\n",
            "9 X 8 = 72\n",
            "10 X 8 = 80\n"
          ]
        }
      ]
    },
    {
      "cell_type": "code",
      "source": [
        "#problem 6\n",
        "lst=[]\n",
        "while(1):\n",
        "  n=int(input(\"enter a digit:\"))\n",
        "  if n==-1:\n",
        "    break\n",
        "  else:\n",
        "    lst.append(n)\n",
        "    large=max(lst)\n",
        "print(large)"
      ],
      "metadata": {
        "colab": {
          "base_uri": "https://localhost:8080/"
        },
        "id": "K1PdRalTl_t-",
        "outputId": "cb34bffc-d749-435b-b259-eebc24f36aa9"
      },
      "execution_count": null,
      "outputs": [
        {
          "output_type": "stream",
          "name": "stdout",
          "text": [
            "enter a digit:44\n",
            "enter a digit:3\n",
            "enter a digit:333\n",
            "enter a digit:45\n",
            "enter a digit:6\n",
            "enter a digit:7\n",
            "enter a digit:999\n",
            "enter a digit:-1\n",
            "999\n"
          ]
        }
      ]
    },
    {
      "cell_type": "code",
      "source": [
        "#problem 7\n",
        "n=int(input(\"enter a number: \"))\n",
        "c=0\n",
        "for i in range(2,n-1,1):\n",
        "  if n%i==0:\n",
        "    print(\"not prime\")\n",
        "    break\n",
        "  else:\n",
        "    c=1\n",
        "    continue\n",
        "if c==1:\n",
        "  print(\"yeah it is prime\")"
      ],
      "metadata": {
        "colab": {
          "base_uri": "https://localhost:8080/"
        },
        "id": "uStJGCXgbb62",
        "outputId": "e1baaa6b-024c-433e-8afd-297af2269bbb"
      },
      "execution_count": null,
      "outputs": [
        {
          "name": "stdout",
          "output_type": "stream",
          "text": [
            "enter a number: 1\n"
          ]
        }
      ]
    },
    {
      "cell_type": "code",
      "source": [
        "#problem 8\n",
        "N=int(input(\"Enter you number\"))\n",
        "if(N<60):\n",
        "  print(\"Grade:F\")\n",
        "elif(60<=N<70):\n",
        "  print(\"Grade:D\")\n",
        "elif(70<=N<80):\n",
        "  print(\"Grade:C\")\n",
        "elif(80<=N<90):\n",
        "  print(\"Grade:B\")\n",
        "elif(90<=N<101):\n",
        "  print(\"Grade:A\")"
      ],
      "metadata": {
        "colab": {
          "base_uri": "https://localhost:8080/"
        },
        "id": "c-7iPqv2knx3",
        "outputId": "d9e7f257-32df-42e2-8512-051379390003"
      },
      "execution_count": null,
      "outputs": [
        {
          "output_type": "stream",
          "name": "stdout",
          "text": [
            "Enter you number89\n",
            "Grade:B\n"
          ]
        }
      ]
    },
    {
      "cell_type": "code",
      "source": [
        "#problem 9\n",
        "n=input(\"enter a string: \")\n",
        "c=0\n",
        "n=n.lower()\n",
        "for i in range(len(n)):\n",
        "  if n[i]=='a' or n[i]=='e' or n[i]=='i' or n[i]=='o' or n[i]=='u':\n",
        "    c+=1\n",
        "print(\"total vowels in the string is \",c)"
      ],
      "metadata": {
        "colab": {
          "base_uri": "https://localhost:8080/"
        },
        "id": "_joNNie5diCF",
        "outputId": "b5f118e9-40d8-45e2-ab15-c59a8cda3a6d"
      },
      "execution_count": null,
      "outputs": [
        {
          "output_type": "stream",
          "name": "stdout",
          "text": [
            "enter a string: PAgoooli\n",
            "total vowels in the string is  5\n"
          ]
        }
      ]
    },
    {
      "cell_type": "code",
      "source": [
        "#problem 10\n",
        "bal=0\n",
        "while(True):\n",
        "  print(\"1.Cheak Balance\")\n",
        "  print(\"2.Deposit money\")\n",
        "  print(\"3.Withdraw money\")\n",
        "  print(\"4.Exit\")\n",
        "  n=int(input(\"enter your choich:\"))\n",
        "  if n==1:\n",
        "    print(\"your current balance is \",bal)\n",
        "    print(\"\\n\")\n",
        "  elif n==2:\n",
        "    a=int(input(\"enter amount: \"))\n",
        "    bal+=a\n",
        "    print(\"Deposit tk \",a,\"sucessfully\")\n",
        "    print(\"\\n\")\n",
        "  elif n==3:\n",
        "    b=int(input(\"enter amount: \"))\n",
        "    if b>bal:\n",
        "      print(\"insufficient balance\")\n",
        "      print(\"\\n\")\n",
        "    else:\n",
        "      bal-=b\n",
        "      print(\"Withdraw tk \",b,\"sucessfully\")\n",
        "      print(\"\\n\")\n",
        "  elif n==4:\n",
        "    break"
      ],
      "metadata": {
        "colab": {
          "base_uri": "https://localhost:8080/"
        },
        "id": "sqG1tRHMfEk0",
        "outputId": "19135f71-1b25-4be0-b879-bc396c71c133"
      },
      "execution_count": null,
      "outputs": [
        {
          "name": "stdout",
          "output_type": "stream",
          "text": [
            "1.Cheak Balance\n",
            "2.Deposit money\n",
            "3.Withdraw money\n",
            "4.Exit\n",
            "enter your choich:2\n",
            "enter amount: 100\n",
            "Deposit tk  100 sucessfully\n",
            "\n",
            "\n",
            "1.Cheak Balance\n",
            "2.Deposit money\n",
            "3.Withdraw money\n",
            "4.Exit\n",
            "enter your choich:1\n",
            "your current balance is  100\n",
            "\n",
            "\n",
            "1.Cheak Balance\n",
            "2.Deposit money\n",
            "3.Withdraw money\n",
            "4.Exit\n",
            "enter your choich:3\n",
            "enter amount: 40\n",
            "Withdraw tk  40 sucessfully\n",
            "\n",
            "\n",
            "1.Cheak Balance\n",
            "2.Deposit money\n",
            "3.Withdraw money\n",
            "4.Exit\n",
            "enter your choich:1\n",
            "your current balance is  60\n",
            "\n",
            "\n",
            "1.Cheak Balance\n",
            "2.Deposit money\n",
            "3.Withdraw money\n",
            "4.Exit\n",
            "enter your choich:4\n"
          ]
        }
      ]
    },
    {
      "cell_type": "code",
      "source": [],
      "metadata": {
        "id": "NxAVhNwAfyu-"
      },
      "execution_count": null,
      "outputs": []
    }
  ]
}