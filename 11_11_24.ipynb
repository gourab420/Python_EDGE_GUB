{
  "nbformat": 4,
  "nbformat_minor": 0,
  "metadata": {
    "colab": {
      "provenance": []
    },
    "kernelspec": {
      "name": "python3",
      "display_name": "Python 3"
    },
    "language_info": {
      "name": "python"
    }
  },
  "cells": [
    {
      "cell_type": "code",
      "execution_count": null,
      "metadata": {
        "colab": {
          "base_uri": "https://localhost:8080/"
        },
        "id": "t27XBNhgw4v-",
        "outputId": "c104bd30-9efb-4f5e-aa65-807826815768"
      },
      "outputs": [
        {
          "output_type": "stream",
          "name": "stdout",
          "text": [
            "a=12\n",
            "b=3\n",
            "12.0 is not equal to 3.0\n",
            "12.0 is greter than 3.0\n"
          ]
        }
      ],
      "source": [
        "\n",
        "a=float(input(\"a=\"))\n",
        "b=float(input(\"b=\"))\n",
        "if(a==b):\n",
        "  print(f\"{a} is equal to {b}\")\n",
        "if(a!=b):\n",
        "  print(f\"{a} is not equal to {b}\")\n",
        "if(a<b):\n",
        "  print(f\"{a} is less than {b}\")\n",
        "if(a>b):\n",
        "  print(f\"{a} is greter than {b}\")\n",
        "else:\n",
        "  print(\"wrong input\")\n",
        "\n"
      ]
    },
    {
      "cell_type": "code",
      "source": [
        "a=input()\n",
        "b=input()\n",
        "print(a==b)\n",
        "print(a>b)\n",
        "print(a<b)\n",
        "print(a!=b)\n"
      ],
      "metadata": {
        "colab": {
          "base_uri": "https://localhost:8080/"
        },
        "id": "ZvoWLdzNxIgE",
        "outputId": "6d605f28-e2f1-41dd-8fdf-f07095a5c362"
      },
      "execution_count": null,
      "outputs": [
        {
          "output_type": "stream",
          "name": "stdout",
          "text": [
            "10\n",
            "44\n",
            "False\n",
            "False\n",
            "True\n",
            "True\n"
          ]
        }
      ]
    },
    {
      "cell_type": "code",
      "source": [
        "a=int(input())\n",
        "a += 1\n",
        "print(\"increase Assignment operator is:\",a)"
      ],
      "metadata": {
        "colab": {
          "base_uri": "https://localhost:8080/"
        },
        "id": "I9DL-9OIxWTr",
        "outputId": "1013de0a-9ab5-4041-9c7f-a6eb5fe3ad8c"
      },
      "execution_count": null,
      "outputs": [
        {
          "output_type": "stream",
          "name": "stdout",
          "text": [
            "5\n",
            "increase one value is: 6\n"
          ]
        }
      ]
    },
    {
      "cell_type": "code",
      "source": [
        "a=int(input())\n",
        "a -= 1\n",
        "print(\"decrease Assignment operator is:\",a)"
      ],
      "metadata": {
        "colab": {
          "base_uri": "https://localhost:8080/"
        },
        "id": "ELsSA6ijxaVr",
        "outputId": "5d8f9314-a49f-4fe5-86ab-9f1dbd31e988"
      },
      "execution_count": null,
      "outputs": [
        {
          "output_type": "stream",
          "name": "stdout",
          "text": [
            "5\n",
            "decrease one value is: 4\n"
          ]
        }
      ]
    },
    {
      "cell_type": "code",
      "source": [
        "a=int(input())\n",
        "a *= 2\n",
        "print(\"Multiplication Assignment operator is:\",a)"
      ],
      "metadata": {
        "colab": {
          "base_uri": "https://localhost:8080/"
        },
        "id": "d2HUi9jl2qem",
        "outputId": "7202b702-a371-42bf-bba7-2f90d1be9e3f"
      },
      "execution_count": null,
      "outputs": [
        {
          "output_type": "stream",
          "name": "stdout",
          "text": [
            "5\n",
            "Multiplication Assignment operator is: 10\n"
          ]
        }
      ]
    },
    {
      "cell_type": "code",
      "source": [
        "a=input(\"name=\")\n",
        "b=input(\"password=\")\n",
        "if(a == \" \" and b == \" \"):\n",
        "    print(\"Not valid user\")\n",
        "elif(a!=\"\" and b!=\"\"):\n",
        "  print(\"it is valid user\")\n",
        "\n"
      ],
      "metadata": {
        "colab": {
          "base_uri": "https://localhost:8080/"
        },
        "id": "tndrWNZG3Iwl",
        "outputId": "fb171a44-4e58-436f-8df3-3da71fec42db"
      },
      "execution_count": null,
      "outputs": [
        {
          "name": "stdout",
          "output_type": "stream",
          "text": [
            "name=\n",
            "password=d\n"
          ]
        }
      ]
    },
    {
      "cell_type": "code",
      "source": [
        "x=5\n",
        "y=3\n",
        "print(x>3 and y<4)\n",
        "print(not(x<3 and y>4))\n"
      ],
      "metadata": {
        "colab": {
          "base_uri": "https://localhost:8080/"
        },
        "id": "KysSoy2X4WOL",
        "outputId": "ee05a562-4f0b-4a21-a0e9-478b0e6e9773"
      },
      "execution_count": null,
      "outputs": [
        {
          "output_type": "stream",
          "name": "stdout",
          "text": [
            "True\n",
            "True\n"
          ]
        }
      ]
    },
    {
      "cell_type": "code",
      "source": [
        "data=[\"gourab\",\"mahin\",\"atik\",\"jion\"]\n",
        "data[0]=\"singha\"\n",
        "print(\"gourab\" in data)\n",
        "print(\"anik\" in data)\n",
        "print(\"gourab\" not in data)"
      ],
      "metadata": {
        "colab": {
          "base_uri": "https://localhost:8080/"
        },
        "id": "cUFNDIwp7Xha",
        "outputId": "3c735bbc-da2a-4fd3-add3-b78422bbfc4b"
      },
      "execution_count": null,
      "outputs": [
        {
          "output_type": "stream",
          "name": "stdout",
          "text": [
            "False\n",
            "False\n",
            "True\n"
          ]
        }
      ]
    },
    {
      "cell_type": "code",
      "source": [
        "a='jj'\n",
        "c=9\n",
        "d=6\n",
        "b=4\n",
        "data=[a,c,b,d]\n",
        "\n",
        "print(a is b)\n",
        "print(a is not b)\n",
        "print(id(a))\n",
        "print(data)"
      ],
      "metadata": {
        "colab": {
          "base_uri": "https://localhost:8080/"
        },
        "id": "JkqFNeCyIInw",
        "outputId": "e4d2d64a-6c0b-437b-a429-32057f3ba29c"
      },
      "execution_count": null,
      "outputs": [
        {
          "output_type": "stream",
          "name": "stdout",
          "text": [
            "False\n",
            "True\n",
            "134028476512560\n",
            "['jj', 9, 4, 6]\n"
          ]
        }
      ]
    },
    {
      "cell_type": "code",
      "source": [
        "data=[\"cse\",\"eee\",\"gbs\",\"llb\"]\n",
        "if(\"cse\" in data):\n",
        "  print(\"cse\")\n",
        "else:\n",
        "  print(\"nai\")"
      ],
      "metadata": {
        "colab": {
          "base_uri": "https://localhost:8080/"
        },
        "id": "T3vefr6dMdz6",
        "outputId": "cd485860-7240-4842-c8bb-a20ecd4a4c62"
      },
      "execution_count": null,
      "outputs": [
        {
          "output_type": "stream",
          "name": "stdout",
          "text": [
            "nai\n"
          ]
        }
      ]
    },
    {
      "cell_type": "code",
      "source": [
        "#a=((1,2),(2,3))\n",
        "print(3 not in [1,2,3])\n",
        "print((2,3) in ((1,2),(2,3)))"
      ],
      "metadata": {
        "colab": {
          "base_uri": "https://localhost:8080/"
        },
        "id": "FzY-n9MiODpz",
        "outputId": "f2634846-51a1-4e56-9fe0-6bd04afe8727"
      },
      "execution_count": null,
      "outputs": [
        {
          "output_type": "stream",
          "name": "stdout",
          "text": [
            "False\n",
            "True\n"
          ]
        }
      ]
    },
    {
      "cell_type": "code",
      "source": [
        "def Bina(n):\n",
        "   if n > 1:\n",
        "       Bina(n // 2)\n",
        "   print(n % 2, end='')\n",
        "a = 10\n",
        "b = 30\n",
        "\n",
        "print(\"binary of a \")\n",
        "Bina(a)\n",
        "print(\"binary of b \")\n",
        "Bina(b)\n",
        "print(\"OR \", a | b)\n",
        "print(\"AND  \", a & b)\n",
        "print(\"right shift): \", a >> 2)\n",
        "print(\"left shift \", a << 3)\n"
      ],
      "metadata": {
        "colab": {
          "base_uri": "https://localhost:8080/"
        },
        "id": "YqrnGxHkQU-D",
        "outputId": "4ea40b08-77be-4d06-c456-a3660b8d0c6b"
      },
      "execution_count": null,
      "outputs": [
        {
          "output_type": "stream",
          "name": "stdout",
          "text": [
            "binary of a \n",
            "1010binary of b \n",
            "11110OR  30\n",
            "AND   10\n",
            "right shift):  2\n",
            "left shift  80\n"
          ]
        }
      ]
    },
    {
      "cell_type": "code",
      "source": [],
      "metadata": {
        "id": "IChqKdwSQbr5"
      },
      "execution_count": null,
      "outputs": []
    }
  ]
}