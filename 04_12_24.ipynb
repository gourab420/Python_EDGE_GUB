{
  "nbformat": 4,
  "nbformat_minor": 0,
  "metadata": {
    "colab": {
      "provenance": []
    },
    "kernelspec": {
      "name": "python3",
      "display_name": "Python 3"
    },
    "language_info": {
      "name": "python"
    }
  },
  "cells": [
    {
      "cell_type": "code",
      "execution_count": null,
      "metadata": {
        "colab": {
          "base_uri": "https://localhost:8080/"
        },
        "id": "0S_NlcJIPJM-",
        "outputId": "d34d3e88-3c33-4518-e6bd-724c963dbd3b"
      },
      "outputs": [
        {
          "output_type": "stream",
          "name": "stdout",
          "text": [
            "39\n"
          ]
        }
      ],
      "source": [
        "from datetime import date\n",
        "d0 = date(2008, 8, 18)\n",
        "d1 = date(2008, 9, 26)\n",
        "delta = d1 - d0\n",
        "print(delta.days)"
      ]
    },
    {
      "cell_type": "code",
      "source": [
        "from datetime import date\n",
        "d0 = list(map(int,input().split(',')))\n",
        "d1 = list(map(int,input().split(',')))\n",
        "age1=date(d0[0],d0[1],d0[2])\n",
        "age2=date(d1[0],d1[1],d1[2])\n",
        "delta = age2 - age1\n",
        "print(delta.days(),'days')"
      ],
      "metadata": {
        "colab": {
          "base_uri": "https://localhost:8080/"
        },
        "collapsed": true,
        "id": "S8ybvNeYS7PH",
        "outputId": "c5018cc9-d9b1-4ccb-fbbd-9538a1315952"
      },
      "execution_count": null,
      "outputs": [
        {
          "output_type": "stream",
          "name": "stdout",
          "text": [
            "2008,8,18\n",
            "2008,9,26\n",
            "3369600.0\n"
          ]
        }
      ]
    },
    {
      "cell_type": "code",
      "source": [
        "from datetime import date\n",
        "from datetime import datetime\n",
        "d0 = list(map(int,input().split(',')))\n",
        "d1 = list(map(int,input().split(',')))\n",
        "age1=date(d0[0],d0[1],d0[2])\n",
        "age2=date(d1[0],d1[1],d1[2])\n",
        "delta = age2 - age1\n",
        "print(delta.total_seconds(),'secound')\n",
        "print(datetime.now())"
      ],
      "metadata": {
        "colab": {
          "base_uri": "https://localhost:8080/"
        },
        "id": "MWp0OuljUwxe",
        "outputId": "c1910ed0-ecf0-47ac-a183-73bb31ad997d"
      },
      "execution_count": null,
      "outputs": [
        {
          "output_type": "stream",
          "name": "stdout",
          "text": [
            "2008,8,18\n",
            "2008,9,26\n",
            "3369600.0 secound\n"
          ]
        }
      ]
    },
    {
      "cell_type": "code",
      "source": [
        "from datetime import datetime\n",
        "print(datetime.now())\n",
        "print(datetime.today())\n"
      ],
      "metadata": {
        "colab": {
          "base_uri": "https://localhost:8080/"
        },
        "id": "OqjZzRY9jX5B",
        "outputId": "0c300b72-392b-4815-8c06-b8c2ba7225a9"
      },
      "execution_count": null,
      "outputs": [
        {
          "output_type": "stream",
          "name": "stdout",
          "text": [
            "2024-12-04 12:05:58.683359\n",
            "2024-12-04 12:05:58.683528\n"
          ]
        }
      ]
    },
    {
      "cell_type": "code",
      "source": [
        "import numpy as np\n",
        "array1d = np.array([1, 2, 3])\n",
        "print(array1d)\n",
        "array2d = np.array([[1, 2], [3, 45]])\n",
        "print(array2d)\n",
        "print(list(array2d))"
      ],
      "metadata": {
        "colab": {
          "base_uri": "https://localhost:8080/"
        },
        "id": "ysU6COYhkC28",
        "outputId": "5f69a382-ca72-43cf-f7fe-874551df2bca"
      },
      "execution_count": null,
      "outputs": [
        {
          "output_type": "stream",
          "name": "stdout",
          "text": [
            "[1 2 3]\n",
            "[[ 1  2]\n",
            " [ 3 45]]\n",
            "[array([1, 2]), array([ 3, 45])]\n"
          ]
        }
      ]
    }
  ]
}