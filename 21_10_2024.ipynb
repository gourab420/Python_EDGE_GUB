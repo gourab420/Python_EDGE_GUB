{
  "cells": [
    {
      "cell_type": "code",
      "source": [
        "lst=[23,4,5,6,6,44,3]\n",
        "lst[1]=40\n",
        "lst[3]=60\n",
        "lst[0]=10\n",
        "\n",
        "print(lst)\n",
        "a=max(lst)\n",
        "\n",
        "b=len(lst)\n",
        "print(b)\n",
        "print(a)"
      ],
      "metadata": {
        "id": "uZrSsanGr60j",
        "outputId": "c7afde7b-de81-4733-fd65-d478aef640f0",
        "colab": {
          "base_uri": "https://localhost:8080/"
        }
      },
      "execution_count": null,
      "outputs": [
        {
          "output_type": "stream",
          "name": "stdout",
          "text": [
            "[10, 40, 5, 60, 6, 44, 3]\n",
            "7\n",
            "60\n"
          ]
        }
      ]
    },
    {
      "cell_type": "code",
      "source": [
        "name=\"Alex\"\n",
        "age=22\n",
        "print(f\"{name} is {age} years old\")"
      ],
      "metadata": {
        "colab": {
          "base_uri": "https://localhost:8080/"
        },
        "id": "d4avBW5mdyXv",
        "outputId": "9028b842-9943-4960-d8a8-0db610992614"
      },
      "execution_count": null,
      "outputs": [
        {
          "output_type": "stream",
          "name": "stdout",
          "text": [
            "Alex is 22 years old\n"
          ]
        }
      ]
    },
    {
      "cell_type": "code",
      "source": [
        "tpl=(1,2,45,5)\n",
        "#tpl(1)=10\n",
        "print(tpl[1])\n",
        "print(tpl)\n"
      ],
      "metadata": {
        "id": "Qyf11_CuuV96",
        "outputId": "e0c47a7e-7d17-4448-c8dd-aab206620e90",
        "colab": {
          "base_uri": "https://localhost:8080/"
        }
      },
      "execution_count": null,
      "outputs": [
        {
          "output_type": "stream",
          "name": "stdout",
          "text": [
            "2\n",
            "(1, 2, 45, 5, 5)\n"
          ]
        }
      ]
    },
    {
      "cell_type": "code",
      "source": [
        "x=range(-10,100,15)\n",
        "for n in x:\n",
        "  print(n)"
      ],
      "metadata": {
        "id": "RSG6343xxIno",
        "outputId": "ccdb1b72-7606-4d92-b697-94d684f5cb3d",
        "colab": {
          "base_uri": "https://localhost:8080/"
        }
      },
      "execution_count": null,
      "outputs": [
        {
          "output_type": "stream",
          "name": "stdout",
          "text": [
            "-10\n",
            "5\n",
            "20\n",
            "35\n",
            "50\n",
            "65\n",
            "80\n",
            "95\n"
          ]
        }
      ]
    },
    {
      "cell_type": "code",
      "source": [
        "my_data={'name':'Gourab','age':24,'city':'purbachal'}\n",
        "print(my_data)\n",
        "print(my_data['age'])\n",
        "\n",
        "del my_data['age']\n",
        "print(my_data)\n",
        "\n",
        "my_data['year']=2024\n",
        "print(my_data)\n",
        "\n",
        "my_data2={'stu1':{'name':'gourab','id':221},'stu2':{'name':'araf','id':222}}\n",
        "print(my_data2['stu1']['id'])\n",
        "\n",
        "my_data3={'name':{'Gourab','anik'},'age':24,'city':'purbachal'}\n",
        "print(my_data3)"
      ],
      "metadata": {
        "id": "D8DwcaoW1W_y",
        "outputId": "d9392aec-32e5-4e83-d1ff-fedfb84184ff",
        "colab": {
          "base_uri": "https://localhost:8080/"
        }
      },
      "execution_count": null,
      "outputs": [
        {
          "output_type": "stream",
          "name": "stdout",
          "text": [
            "{'name': 'Gourab', 'age': 24, 'city': 'purbachal'}\n",
            "24\n",
            "{'name': 'Gourab', 'city': 'purbachal'}\n",
            "{'name': 'Gourab', 'city': 'purbachal', 'year': 2024}\n",
            "221\n",
            "{'name': {'Gourab', 'anik'}, 'age': 24, 'city': 'purbachal'}\n"
          ]
        }
      ]
    },
    {
      "cell_type": "code",
      "source": [
        "set1={1,2,3,3,4}\n",
        "print(set1)\n",
        "\n",
        "set1.add(5)\n",
        "print(set1)\n",
        "\n",
        "set1.remove(1)\n",
        "print(set1)\n",
        "\n",
        "len(set1)"
      ],
      "metadata": {
        "id": "kmN-Ms5EDJym",
        "outputId": "03967f8a-b505-46e4-8281-859aae0fa186",
        "colab": {
          "base_uri": "https://localhost:8080/"
        }
      },
      "execution_count": null,
      "outputs": [
        {
          "output_type": "stream",
          "name": "stdout",
          "text": [
            "{1, 2, 3, 4}\n",
            "{1, 2, 3, 4, 5}\n",
            "{2, 3, 4, 5}\n"
          ]
        },
        {
          "output_type": "execute_result",
          "data": {
            "text/plain": [
              "4"
            ]
          },
          "metadata": {},
          "execution_count": 5
        }
      ]
    },
    {
      "cell_type": "code",
      "source": [
        "nums = [1,1,2]\n",
        "i=0\n",
        "result={}\n",
        "while i<len(nums):\n",
        "  result.add(nums[i])\n",
        "print(len(result))\n"
      ],
      "metadata": {
        "colab": {
          "base_uri": "https://localhost:8080/",
          "height": 193
        },
        "id": "f42gw57xXNxV",
        "outputId": "0f91fe4f-9934-4bfc-9173-19aa5646c7b8"
      },
      "execution_count": null,
      "outputs": [
        {
          "output_type": "error",
          "ename": "AttributeError",
          "evalue": "'dict' object has no attribute 'add'",
          "traceback": [
            "\u001b[0;31m---------------------------------------------------------------------------\u001b[0m",
            "\u001b[0;31mAttributeError\u001b[0m                            Traceback (most recent call last)",
            "\u001b[0;32m<ipython-input-6-d77cbb6fe0f1>\u001b[0m in \u001b[0;36m<cell line: 4>\u001b[0;34m()\u001b[0m\n\u001b[1;32m      3\u001b[0m \u001b[0mresult\u001b[0m\u001b[0;34m=\u001b[0m\u001b[0;34m{\u001b[0m\u001b[0;34m}\u001b[0m\u001b[0;34m\u001b[0m\u001b[0;34m\u001b[0m\u001b[0m\n\u001b[1;32m      4\u001b[0m \u001b[0;32mwhile\u001b[0m \u001b[0mi\u001b[0m\u001b[0;34m<\u001b[0m\u001b[0mlen\u001b[0m\u001b[0;34m(\u001b[0m\u001b[0mnums\u001b[0m\u001b[0;34m)\u001b[0m\u001b[0;34m:\u001b[0m\u001b[0;34m\u001b[0m\u001b[0;34m\u001b[0m\u001b[0m\n\u001b[0;32m----> 5\u001b[0;31m   \u001b[0mresult\u001b[0m\u001b[0;34m.\u001b[0m\u001b[0madd\u001b[0m\u001b[0;34m(\u001b[0m\u001b[0mnums\u001b[0m\u001b[0;34m[\u001b[0m\u001b[0mi\u001b[0m\u001b[0;34m]\u001b[0m\u001b[0;34m)\u001b[0m\u001b[0;34m\u001b[0m\u001b[0;34m\u001b[0m\u001b[0m\n\u001b[0m\u001b[1;32m      6\u001b[0m \u001b[0mprint\u001b[0m\u001b[0;34m(\u001b[0m\u001b[0mlen\u001b[0m\u001b[0;34m(\u001b[0m\u001b[0mresult\u001b[0m\u001b[0;34m)\u001b[0m\u001b[0;34m)\u001b[0m\u001b[0;34m\u001b[0m\u001b[0;34m\u001b[0m\u001b[0m\n",
            "\u001b[0;31mAttributeError\u001b[0m: 'dict' object has no attribute 'add'"
          ]
        }
      ]
    },
    {
      "cell_type": "code",
      "source": [
        "nums = [1, 0, 0, 1, -1, 2, 2, 3, 3, 4]\n",
        "\n",
        "print(nums)\n",
        "result = set(nums)  # Use a set to store unique elements\n",
        "result = list(result)\n",
        "result.sort()\n",
        "#result=result.sort()  # Convert the set to a list for ordered access\n",
        "print(len(result))\n",
        "# Overwrite nums with the elements of result\n",
        "for i in range(len(nums)):\n",
        "    if i < len(result):\n",
        "        nums[i] = result[i]\n",
        "    else:\n",
        "        nums[i] = '_'  # Fill remaining slots with '_'\n",
        "\n",
        "print(nums)\n"
      ],
      "metadata": {
        "colab": {
          "base_uri": "https://localhost:8080/"
        },
        "id": "xzvWROVRXhiL",
        "outputId": "3b806716-966e-45d0-fed1-24a8ba7cbc10"
      },
      "execution_count": null,
      "outputs": [
        {
          "output_type": "stream",
          "name": "stdout",
          "text": [
            "[1, 0, 0, 1, -1, 2, 2, 3, 3, 4]\n",
            "6\n",
            "[-1, 0, 1, 2, 3, 4, '_', '_', '_', '_']\n"
          ]
        }
      ]
    },
    {
      "cell_type": "code",
      "source": [],
      "metadata": {
        "id": "NdWGg-h5XgnN"
      },
      "execution_count": null,
      "outputs": []
    },
    {
      "cell_type": "code",
      "source": [
        "a=''\n",
        "print(bool(a))\n",
        "b='gub'\n",
        "print(bool(b))"
      ],
      "metadata": {
        "id": "BU_-zRufELGX",
        "outputId": "72e241e1-b059-483f-c15c-6b9479cd25c4",
        "colab": {
          "base_uri": "https://localhost:8080/"
        }
      },
      "execution_count": null,
      "outputs": [
        {
          "output_type": "stream",
          "name": "stdout",
          "text": [
            "False\n",
            "True\n"
          ]
        }
      ]
    },
    {
      "cell_type": "code",
      "source": [
        "s=\"gub.com\"\n",
        "byte=bytes(s,'utf-8')\n",
        "print(byte)\n",
        "\n",
        "i=2\n",
        "a=bytes(i)\n",
        "print(a)\n",
        "\n",
        "t=(3,4,5,6)\n",
        "print(str(bytes(t)))"
      ],
      "metadata": {
        "id": "tRrwNGmxHkmm",
        "outputId": "46b118df-f66f-4c32-a757-37f5273505a5",
        "colab": {
          "base_uri": "https://localhost:8080/"
        }
      },
      "execution_count": null,
      "outputs": [
        {
          "output_type": "stream",
          "name": "stdout",
          "text": [
            "b'gub.com'\n",
            "b'\\x00\\x00'\n",
            "b'\\x03\\x04\\x05\\x06'\n"
          ]
        }
      ]
    },
    {
      "cell_type": "code",
      "source": [
        "st='green.com'\n",
        "ar1=bytearray(st,'utf-8')\n",
        "ar2=bytearray(st,'utf-32')\n",
        "print(ar1)\n",
        "print(ar2)\n",
        "\n",
        "s=2\n",
        "arr=bytearray(s)\n",
        "print(arr)"
      ],
      "metadata": {
        "id": "b2ZS7gQZJcvb",
        "outputId": "ab6b7c21-43af-4f06-a435-1530029ef8a1",
        "colab": {
          "base_uri": "https://localhost:8080/"
        }
      },
      "execution_count": null,
      "outputs": [
        {
          "output_type": "stream",
          "name": "stdout",
          "text": [
            "bytearray(b'green.com')\n",
            "bytearray(b'\\xff\\xfe\\x00\\x00g\\x00\\x00\\x00r\\x00\\x00\\x00e\\x00\\x00\\x00e\\x00\\x00\\x00n\\x00\\x00\\x00.\\x00\\x00\\x00c\\x00\\x00\\x00o\\x00\\x00\\x00m\\x00\\x00\\x00')\n",
            "bytearray(b'\\x00\\x00')\n"
          ]
        }
      ]
    }
  ],
  "metadata": {
    "colab": {
      "toc_visible": true,
      "provenance": []
    },
    "kernelspec": {
      "display_name": "Python 3",
      "name": "python3"
    }
  },
  "nbformat": 4,
  "nbformat_minor": 0
}