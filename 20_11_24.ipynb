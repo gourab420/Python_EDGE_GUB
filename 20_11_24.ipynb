{
  "nbformat": 4,
  "nbformat_minor": 0,
  "metadata": {
    "colab": {
      "provenance": []
    },
    "kernelspec": {
      "name": "python3",
      "display_name": "Python 3"
    },
    "language_info": {
      "name": "python"
    }
  },
  "cells": [
    {
      "cell_type": "code",
      "execution_count": null,
      "metadata": {
        "colab": {
          "base_uri": "https://localhost:8080/"
        },
        "id": "BuK9Gez3DUvx",
        "outputId": "7a82b7c0-b844-4938-87e9-d38d4c1b7595"
      },
      "outputs": [
        {
          "output_type": "stream",
          "name": "stdout",
          "text": [
            "hey gourab whats upp!!\n"
          ]
        }
      ],
      "source": [
        "def greet(a):\n",
        "  print(f\"hey {a} whats upp!!\")\n",
        "greet(\"gourab\")"
      ]
    },
    {
      "cell_type": "code",
      "source": [
        "def calculate(a,b):\n",
        "  return int(a*b)\n",
        "a=int(input(\"first num:\"))\n",
        "b=int(input(\"secound num:\"))\n",
        "print(\"multiplication of those number is:\",calculate(a,b))"
      ],
      "metadata": {
        "colab": {
          "base_uri": "https://localhost:8080/"
        },
        "id": "jT9nhDIQNwle",
        "outputId": "b83d3727-199c-408c-f96e-0216bf406a5c"
      },
      "execution_count": null,
      "outputs": [
        {
          "output_type": "stream",
          "name": "stdout",
          "text": [
            "first num:22\n",
            "secound num:2\n",
            "multiplication of those number is: 44\n"
          ]
        }
      ]
    },
    {
      "cell_type": "code",
      "source": [
        "import math\n",
        "print(math.sqrt(16))"
      ],
      "metadata": {
        "colab": {
          "base_uri": "https://localhost:8080/"
        },
        "id": "5OW3zR88P2Ug",
        "outputId": "684db720-6566-45c8-a031-79008d1a10aa"
      },
      "execution_count": null,
      "outputs": [
        {
          "output_type": "stream",
          "name": "stdout",
          "text": [
            "4.0\n"
          ]
        }
      ]
    },
    {
      "cell_type": "code",
      "source": [
        "with open('/content/drive/MyDrive/mypackage/__init__.py', 'w') as f:\n",
        "    f.write(\"# This is the init file for mypackage\")\n",
        "\n",
        "with open('/content/drive/MyDrive/mypackage/mymodule.py', 'w') as f:\n",
        "    f.write(\"\"\"\n",
        "def greet(name):\n",
        "    return f\"Hello from module1, {name}!\"\n",
        "\"\"\")\n",
        "\n",
        "import sys\n",
        "sys.path.append('/content/drive/MyDrive')\n",
        "\n",
        "import mymodule\n",
        "print(mymodule.greet(\"hhhh\"))"
      ],
      "metadata": {
        "id": "Ta2RmnDNjIZn",
        "colab": {
          "base_uri": "https://localhost:8080/"
        },
        "outputId": "e59a4c98-fda4-4e45-8c42-e9b79722bcd7"
      },
      "execution_count": null,
      "outputs": [
        {
          "output_type": "stream",
          "name": "stdout",
          "text": [
            "Hello from module1, hhhh!\n"
          ]
        }
      ]
    },
    {
      "cell_type": "code",
      "source": [
        "def findlargest(a):\n",
        "  return max(a)\n",
        "num=[10,22,1,33,567]\n",
        "print(f\"The largest number is {findlargest(num)}\")"
      ],
      "metadata": {
        "id": "iCQ90XQojIbb",
        "colab": {
          "base_uri": "https://localhost:8080/"
        },
        "outputId": "c953a54d-1048-4445-d884-e88bcba37d7e"
      },
      "execution_count": null,
      "outputs": [
        {
          "output_type": "stream",
          "name": "stdout",
          "text": [
            "The largest number is 567\n"
          ]
        }
      ]
    },
    {
      "cell_type": "code",
      "source": [
        "def factorial(num):\n",
        "  sum=1\n",
        "  for i in range(1,num+1,1):\n",
        "    sum*=i\n",
        "  return sum\n",
        "n=int(input())\n",
        "print(f\"The factorial is {factorial(n)}\")\n",
        "\n"
      ],
      "metadata": {
        "colab": {
          "base_uri": "https://localhost:8080/"
        },
        "id": "ebjzv2LJkuP2",
        "outputId": "ffd4d21e-4851-4bd8-d8fd-2a426d890b47"
      },
      "execution_count": null,
      "outputs": [
        {
          "output_type": "stream",
          "name": "stdout",
          "text": [
            "4\n",
            "The factorial is 24\n"
          ]
        }
      ]
    },
    {
      "cell_type": "code",
      "source": [
        "def add(a,b):\n",
        "  return a+b\n",
        "def sub(a,b):\n",
        "  return a-b\n",
        "def mul(a,b):\n",
        "  return a*b\n",
        "\n",
        "print(f\"addition of 5 and 9 is {add(5,9)}\")\n",
        "print(f\"suntraction of 20 and 9 is {sub(20,9)}\")\n",
        "print(f\"multiplection of 5 and 9 is {mul(5,9)}\")\n",
        "\n"
      ],
      "metadata": {
        "colab": {
          "base_uri": "https://localhost:8080/"
        },
        "id": "EqbtPz4GlefN",
        "outputId": "3c31a22b-b1da-40ad-d7a8-f2b7ab93f0b2"
      },
      "execution_count": null,
      "outputs": [
        {
          "output_type": "stream",
          "name": "stdout",
          "text": [
            "addition of 22 and 2 is 14\n",
            "suntraction of 22 and 2 is 11\n",
            "multiplection of 22 and 2 is 45\n"
          ]
        }
      ]
    },
    {
      "cell_type": "code",
      "source": [
        "def prime(n):\n",
        "  c=0\n",
        "  if n==1:\n",
        "    return \"not prime\"\n",
        "  else:\n",
        "    for i in range (2,n,1):\n",
        "      if n%i==0:\n",
        "        c+=1\n",
        "        break\n",
        "    if c==0:\n",
        "      return \"prime\"\n",
        "    else:\n",
        "      return \"not prime\"\n",
        "\n",
        "print(prime(10))\n"
      ],
      "metadata": {
        "colab": {
          "base_uri": "https://localhost:8080/"
        },
        "id": "UTqpRsakmguV",
        "outputId": "4f109bbd-b0e9-4e82-e0e4-5c814201abbf"
      },
      "execution_count": null,
      "outputs": [
        {
          "output_type": "stream",
          "name": "stdout",
          "text": [
            "not prime\n"
          ]
        }
      ]
    },
    {
      "cell_type": "code",
      "source": [
        "def common(a,b):\n",
        "  result=[]\n",
        "  for i in range(len(a)):\n",
        "    if a[i] in b:\n",
        "      result.append(a[i])\n",
        "  return result\n",
        "\n",
        "a=[1,2,4,6]\n",
        "b=[1,4,7,8]\n",
        "print(f\"common number is {common(a,b)}\")\n"
      ],
      "metadata": {
        "colab": {
          "base_uri": "https://localhost:8080/"
        },
        "id": "qccaaGHqol11",
        "outputId": "7a10727d-60de-4969-a2de-012e4e3a07d7"
      },
      "execution_count": null,
      "outputs": [
        {
          "output_type": "stream",
          "name": "stdout",
          "text": [
            "common number is [1, 4]\n"
          ]
        }
      ]
    },
    {
      "cell_type": "code",
      "source": [],
      "metadata": {
        "id": "Maj724Pvol21"
      },
      "execution_count": null,
      "outputs": []
    }
  ]
}