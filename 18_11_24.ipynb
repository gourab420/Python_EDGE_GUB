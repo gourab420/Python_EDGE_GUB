{
  "nbformat": 4,
  "nbformat_minor": 0,
  "metadata": {
    "colab": {
      "provenance": []
    },
    "kernelspec": {
      "name": "python3",
      "display_name": "Python 3"
    },
    "language_info": {
      "name": "python"
    }
  },
  "cells": [
    {
      "cell_type": "code",
      "source": [
        "#write\n",
        "#for manual mount\n",
        "#from google.colab import drive\n",
        "#drive.mount('/content/drive')\n",
        "file_path = '/content/drive/MyDrive/test_case_1.pdf'\n",
        "#file_path = '/content/drive/MyDrive/for_testing-purpose.txt'\n",
        "\n",
        "with open(file_path, 'w') as file:\n",
        "    file.write(input())\n",
        "print(f\"updated file is: {file_path}\")\n",
        "\n"
      ],
      "metadata": {
        "colab": {
          "base_uri": "https://localhost:8080/"
        },
        "collapsed": true,
        "id": "PDw7fa6IT-QJ",
        "outputId": "b10680d6-d9e8-461f-9add-2f9933d6005d"
      },
      "execution_count": null,
      "outputs": [
        {
          "output_type": "stream",
          "name": "stdout",
          "text": [
            "i am gourab sigha\n",
            "updated file is: /content/drive/MyDrive/test_case_1.pdf\n"
          ]
        }
      ]
    },
    {
      "cell_type": "code",
      "source": [
        "import pygame\n",
        "import math\n",
        "\n",
        "# Initialize Pygame\n",
        "pygame.init()\n",
        "\n",
        "# Constants\n",
        "WIDTH, HEIGHT = 800, 600\n",
        "GRAVITY = 0.2\n",
        "FRICTION = 0.99\n",
        "HEXAGON_RADIUS = 200\n",
        "ROTATION_SPEED = 1  # Degrees per frame\n",
        "BALL_RADIUS = 10\n",
        "\n",
        "# Colors\n",
        "BLACK = (0, 0, 0)\n",
        "WHITE = (255, 255, 255)\n",
        "RED = (255, 0, 0)\n",
        "\n",
        "# Screen setup\n",
        "screen = pygame.display.set_mode((WIDTH, HEIGHT))\n",
        "clock = pygame.time.Clock()\n",
        "\n",
        "# Ball properties\n",
        "ball_pos = [WIDTH // 2, HEIGHT // 2]\n",
        "ball_vel = [2, -2]\n",
        "\n",
        "# Hexagon properties\n",
        "hexagon_center = (WIDTH // 2, HEIGHT // 2)\n",
        "angle = 0\n",
        "\n",
        "def get_hexagon_points(center, radius, rotation):\n",
        "    points = []\n",
        "    for i in range(6):\n",
        "        theta = math.radians(i * 60 + rotation)\n",
        "        x = center[0] + radius * math.cos(theta)\n",
        "        y = center[1] + radius * math.sin(theta)\n",
        "        points.append((x, y))\n",
        "    return points\n",
        "\n",
        "def reflect_vector(velocity, normal):\n",
        "    dot_product = velocity[0] * normal[0] + velocity[1] * normal[1]\n",
        "    reflection = [\n",
        "        velocity[0] - 2 * dot_product * normal[0],\n",
        "        velocity[1] - 2 * dot_product * normal[1]\n",
        "    ]\n",
        "    return [reflection[0] * FRICTION, reflection[1] * FRICTION]\n",
        "\n",
        "def check_collision():\n",
        "    global ball_pos, ball_vel\n",
        "    hex_points = get_hexagon_points(hexagon_center, HEXAGON_RADIUS, angle)\n",
        "\n",
        "    for i in range(6):\n",
        "        p1, p2 = hex_points[i], hex_points[(i + 1) % 6]\n",
        "        edge_vector = [p2[0] - p1[0], p2[1] - p1[1]]\n",
        "        edge_length = math.sqrt(edge_vector[0] ** 2 + edge_vector[1] ** 2)\n",
        "        normal = [-edge_vector[1] / edge_length, edge_vector[0] / edge_length]\n",
        "\n",
        "        # Check distance from ball to edge\n",
        "        edge_to_ball = [ball_pos[0] - p1[0], ball_pos[1] - p1[1]]\n",
        "        distance = abs(edge_to_ball[0] * normal[0] + edge_to_ball[1] * normal[1])\n",
        "\n",
        "        if distance <= BALL_RADIUS:\n",
        "            ball_vel = reflect_vector(ball_vel, normal)\n",
        "            break\n",
        "\n",
        "# Game loop\n",
        "running = True\n",
        "while running:\n",
        "    screen.fill(BLACK)\n",
        "\n",
        "    # Event handling\n",
        "    for event in pygame.event.get():\n",
        "        if event.type == pygame.QUIT:\n",
        "            running = False\n",
        "\n",
        "    # Apply gravity\n",
        "    ball_vel[1] += GRAVITY\n",
        "\n",
        "    # Update ball position\n",
        "    ball_pos[0] += ball_vel[0]\n",
        "    ball_pos[1] += ball_vel[1]\n",
        "\n",
        "    # Check collision with hexagon walls\n",
        "    check_collision()\n",
        "\n",
        "    # Rotate hexagon\n",
        "    angle += ROTATION_SPEED\n",
        "\n",
        "    # Draw hexagon\n",
        "    hexagon_points = get_hexagon_points(hexagon_center, HEXAGON_RADIUS, angle)\n",
        "    pygame.draw.polygon(screen, WHITE, hexagon_points, 2)\n",
        "\n",
        "    # Draw ball\n",
        "    pygame.draw.circle(screen, RED, (int(ball_pos[0]), int(ball_pos[1])), BALL_RADIUS)\n",
        "\n",
        "    pygame.display.flip()\n",
        "    clock.tick(60)\n",
        "\n",
        "pygame.quit()\n"
      ],
      "metadata": {
        "colab": {
          "base_uri": "https://localhost:8080/"
        },
        "id": "Vbv7NKBmjTjq",
        "outputId": "871b5eb6-7c6a-40e3-ade4-ae88b015fec8"
      },
      "execution_count": null,
      "outputs": [
        {
          "output_type": "stream",
          "name": "stdout",
          "text": [
            "pygame 2.6.1 (SDL 2.28.4, Python 3.11.11)\n",
            "Hello from the pygame community. https://www.pygame.org/contribute.html\n"
          ]
        }
      ]
    },
    {
      "cell_type": "code",
      "source": [
        "#read\n",
        "file_path = '/content/drive/MyDrive/test_case_1.pdf'\n",
        "#file_path = '/content/drive/MyDrive/for_testing-purpose.txt'\n",
        "with open(file_path,'r')as file:\n",
        "  content=file.read()\n",
        "  print(content)\n"
      ],
      "metadata": {
        "colab": {
          "base_uri": "https://localhost:8080/"
        },
        "id": "YA3lRD4KVIr4",
        "outputId": "f09e5043-2409-4e16-8ee8-3af74000b5f4"
      },
      "execution_count": null,
      "outputs": [
        {
          "output_type": "stream",
          "name": "stdout",
          "text": [
            "i am gourab sigha\n"
          ]
        }
      ]
    },
    {
      "cell_type": "code",
      "source": [
        "#append\n",
        "file_path = '/content/drive/MyDrive/test_case_1.pdf'\n",
        "#file_path='/content/drive/MyDrive/for_testing-purpose.txt'\n",
        "with open(file_path,'a')as file:\n",
        "  file.write(\". \")\n",
        "  file.write(input(\"enter the message you want to append:\"))\n",
        "with open(file_path,'r')as file:\n",
        "  content=file.read()\n",
        "  print(content)"
      ],
      "metadata": {
        "colab": {
          "base_uri": "https://localhost:8080/"
        },
        "id": "B6xMx3sPVmFH",
        "outputId": "9963ebde-5f83-454c-85f4-77c535434746"
      },
      "execution_count": null,
      "outputs": [
        {
          "output_type": "stream",
          "name": "stdout",
          "text": [
            "enter the message you want to append:i am interested in python\n",
            "i am gourab sigha. i am interested in python\n"
          ]
        }
      ]
    },
    {
      "cell_type": "markdown",
      "source": [],
      "metadata": {
        "id": "hpBDnWoGTVbR"
      }
    }
  ]
}