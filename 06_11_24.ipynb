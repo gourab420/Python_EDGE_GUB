{
  "cells": [
    {
      "cell_type": "code",
      "execution_count": null,
      "metadata": {
        "colab": {
          "background_save": true,
          "base_uri": "https://localhost:8080/"
        },
        "id": "4f6piClCBqXG",
        "outputId": "cd610fb8-e694-44b3-9205-fc177a4029aa"
      },
      "outputs": [
        {
          "name": "stdout",
          "output_type": "stream",
          "text": [
            "List: [23, 4, 5, 6, 6, 44, 3]\n",
            "Taple: (1, 2, 45, 5, 6, 8, 88)\n",
            "Set {1, 2, 3, 67, 88, 44, 77}\n",
            "Dictionary: {'name': 'Gourab', 'age': '24', 'city': 'purbachal'}\n",
            "\n",
            "\n",
            "operation\n",
            "1.add\n",
            "2.del\n",
            "3.update\n",
            "4.range\n",
            "\n",
            "\n",
            "1.List\n",
            "2.Taple\n",
            "3.Set\n",
            "4.Dictionary\n",
            "\n",
            "\n",
            "After add operation:\n",
            "List: [23, 4, 5, 6, 6, 44, 3]\n",
            "Taple: (1, 2, 45, 5, 6, 8, 88)\n",
            "Set {1, 2, 3, 67, 88, 44, 77}\n",
            "Dictionary: {'name': 'Gourab', 'age': '24', 'city': 'purbachal', 'padd': 'narail'}\n",
            "\n",
            "\n",
            "operation\n",
            "1.add\n",
            "2.del\n",
            "3.update\n",
            "4.range\n",
            "\n",
            "\n"
          ]
        }
      ],
      "source": [
        "lst=[23,4,5,6,6,44,3]\n",
        "tpl=(1,2,45,5,6,8,88)\n",
        "my_data={'name':'Gourab','age':'24','city':'purbachal'}\n",
        "set1={1,2,3,67,44,77,88}\n",
        "while(1):\n",
        "  print(\"List:\",lst)\n",
        "  print(\"Taple:\",tpl)\n",
        "  print(\"Set\",set1)\n",
        "  print(\"Dictionary:\",my_data)\n",
        "  print(\"\\n\")\n",
        "\n",
        "  print(\"operation\")\n",
        "  print(\"1.add\")\n",
        "  print(\"2.del\")\n",
        "  print(\"3.update\")\n",
        "  print(\"4.range\")\n",
        "  print(\"\\n\")\n",
        "  n=input(\"enter your choich:\")\n",
        "  #here is add operation\n",
        "  if(n=='1'):\n",
        "    print(\"1.List\")\n",
        "    print(\"2.Taple\")\n",
        "    print(\"3.Set\")\n",
        "    print(\"4.Dictionary\")\n",
        "\n",
        "    a=input(\"enter your choich:\")\n",
        "    print(\"\\n\")\n",
        "    if(a=='1'):\n",
        "      x=int(input(\"enter value you want to add in list:\"))\n",
        "      lst.append(x)\n",
        "      print(\"After add operation:\")\n",
        "    elif(a=='2'):\n",
        "      x=int(input(\"enter value you want to add in taple:\"))\n",
        "      tpl = tpl + (x,)\n",
        "      print(\"After add operation:\")\n",
        "    elif(a=='3'):\n",
        "      x=int(input(\"enter value you want to add in set:\"))\n",
        "      set1.add(x)\n",
        "      print(\"After add operation:\")\n",
        "    elif(a=='4'):\n",
        "      x=input(\"enter new criteria:\")\n",
        "      y=input(\"enter the value:\")\n",
        "      my_data[x]=y\n",
        "      print(\"After add operation:\")\n",
        "\n",
        "#here is dellet\n",
        "  elif(n=='2'):\n",
        "    print(\"1.List\")\n",
        "    print(\"2.Taple\")\n",
        "    print(\"3.Set\")\n",
        "    print(\"4.Dictionary\")\n",
        "    a=input(\"enter your choich:\")\n",
        "    print(\"\\n\")\n",
        "    if(a=='1'):\n",
        "      x=int(input(\"enter value you want to del:\"))\n",
        "      lst.remove(x)\n",
        "      print(\"After dellet operation:\")\n",
        "    elif(a=='2'):\n",
        "      print('it is not possible to dellet spcefic value or index because taple is immutable but it is possible to remove all value')\n",
        "      n=int(input('if you want to dellet all the value the press 1 otherwise 0: '))\n",
        "      if n==1:\n",
        "        del tpl\n",
        "      else:\n",
        "        continue\n",
        "    elif(a=='3'):\n",
        "      x=int(input(\"enter index value you want to del:\"))\n",
        "      set1.remove(x)\n",
        "      print(\"After dellet operation:\")\n",
        "    elif(a=='4'):\n",
        "      x=input(\"enter the criteria you want to del:\")\n",
        "      del my_data[x]\n",
        "      print(\"After dellet operation:\")\n",
        "\n",
        " #here is the update\n",
        "  elif(n=='3'):\n",
        "    print(\"1.List\")\n",
        "    print(\"2.Taple\")\n",
        "    print(\"3.Set\")\n",
        "    print(\"4.Dictionary\")\n",
        "    print(\"\\n\")\n",
        "    a=input(\"enter your choich:\")\n",
        "    if(a=='1'):\n",
        "      x=int(input(\"enter index you want to update:\"))\n",
        "      y=int(input(\"enter the value:\"))\n",
        "      lst[x]=y\n",
        "      print('after update ')\n",
        "    elif(a=='2'):\n",
        "      print(\"Does not update the taple,it is possible if we convert the tuple in list then update the value and then convert the list in tuple\")\n",
        "    elif(a=='3'):\n",
        "      print(\"set doesnt support update in spcefic index\")\n",
        "    elif(a=='4'):\n",
        "      a=input(\"enter the criteria you want to update: \")\n",
        "      b=input(\"enter the value: \")\n",
        "      my_data[a]=b\n",
        "      print('after update ')\n",
        "\n",
        "  elif(n=='4'):\n",
        "    a=int(input(\"enter starting value:\"))\n",
        "    b=int(input(\"enter end value:\"))\n",
        "    c=int(input(\"distance:\"))\n",
        "    for i in range (a,b,c):\n",
        "      print(i)\n",
        "\n",
        "\n",
        "\n",
        "\n",
        "\n",
        "\n",
        "\n"
      ]
    },
    {
      "cell_type": "code",
      "execution_count": null,
      "metadata": {
        "colab": {
          "base_uri": "https://localhost:8080/"
        },
        "id": "F9xn2W4PculW",
        "outputId": "40b0ebf9-149a-4c16-8ec0-abc35f95b0b0"
      },
      "outputs": [
        {
          "name": "stdout",
          "output_type": "stream",
          "text": [
            "15.5\n",
            "15\n",
            "1 2 3\n",
            "<class 'str'>\n"
          ]
        }
      ],
      "source": [
        "a=10\n",
        "b=a+5.5\n",
        "c=int(a+5.5)\n",
        "print(b)\n",
        "print(c)\n",
        "v=\"1 2 3\"\n",
        "print(v)\n",
        "print(type(v))"
      ]
    },
    {
      "cell_type": "code",
      "execution_count": null,
      "metadata": {
        "colab": {
          "base_uri": "https://localhost:8080/"
        },
        "id": "NOJ8cAsfJyR7",
        "outputId": "badf5e5c-fb85-45c7-b724-1f573d6f3e2e"
      },
      "outputs": [
        {
          "name": "stdout",
          "output_type": "stream",
          "text": [
            "aminur123\n"
          ]
        }
      ],
      "source": [
        "a=\"aminur\"\n",
        "b=\"123\"\n",
        "print(a+b)"
      ]
    },
    {
      "cell_type": "code",
      "execution_count": null,
      "metadata": {
        "id": "7VRkGBfjFCP1"
      },
      "outputs": [],
      "source": [
        "while(1):\n",
        "  print(\"\\n\")\n",
        "  a=input(\"Enter first digit: \")\n",
        "  b=input(\"Enter secound digit: \")\n",
        "  a=float(a)\n",
        "  b=float(b)\n",
        "  print(\"arithmatic operation\")\n",
        "  print(\"1.add\")\n",
        "  print(\"2.sub\")\n",
        "  print(\"3.mul\")\n",
        "  print(\"4.div\")\n",
        "  print(\"5.modulas\")\n",
        "  n=input(\"enter your choich:\")\n",
        "  if(n=='1'):\n",
        "    print(\"a+b=\",(a+b))\n",
        "  elif(n=='2'):\n",
        "    print(\"a-b=\",(a-b))\n",
        "  elif(n=='3'):\n",
        "    print(\"a*b=\",(a*b))\n",
        "  elif(n=='4'):\n",
        "    print(\"a/b=\",(a/b))\n",
        "  elif(n=='5'):\n",
        "    print(\"a%b=\",(a%b))\n"
      ]
    }
  ],
  "metadata": {
    "colab": {
      "provenance": [],
      "toc_visible": true
    },
    "kernelspec": {
      "display_name": "Python 3",
      "name": "python3"
    }
  },
  "nbformat": 4,
  "nbformat_minor": 0
}