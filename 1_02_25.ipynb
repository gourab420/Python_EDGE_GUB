{
  "nbformat": 4,
  "nbformat_minor": 0,
  "metadata": {
    "colab": {
      "provenance": []
    },
    "kernelspec": {
      "name": "python3",
      "display_name": "Python 3"
    },
    "language_info": {
      "name": "python"
    }
  },
  "cells": [
    {
      "cell_type": "code",
      "execution_count": null,
      "metadata": {
        "colab": {
          "base_uri": "https://localhost:8080/"
        },
        "id": "3H2Xg-I6YyQ-",
        "outputId": "be0dc781-744c-4938-d001-3c1b03da8a0a"
      },
      "outputs": [
        {
          "output_type": "stream",
          "name": "stdout",
          "text": [
            "[11 24 37]\n",
            "[[1 2]\n",
            " [3 4]]\n",
            "[[0. 0. 0.]\n",
            " [0. 0. 0.]]\n",
            "[1. 2. 3.]\n"
          ]
        }
      ],
      "source": [
        "import numpy as np\n",
        "array1d = np.array([11, 24, 37])\n",
        "print(array1d)\n",
        "\n",
        "array2d = np.array([[1, 2], [3, 4]])\n",
        "print(array2d)\n",
        "\n",
        "zeros_array = np.zeros((2, 3))\n",
        "print(zeros_array)\n",
        "\n",
        "array = np.array([1, 2, 3], dtype='float32')\n",
        "print(array)"
      ]
    },
    {
      "cell_type": "code",
      "source": [
        "import numpy as np\n",
        "a = np.array([1, 2])\n",
        "b = np.array([3, 4])\n",
        "print(np.vstack((a, b)))\n",
        "print(np.hstack((a, b)))\n",
        "array = np.arange(6).reshape(2, 3)\n",
        "print(np.hsplit(array, 3))"
      ],
      "metadata": {
        "colab": {
          "base_uri": "https://localhost:8080/"
        },
        "id": "HH9sbZNlfzmy",
        "outputId": "43b1ec6f-59c3-49d9-c683-de280f01edc4"
      },
      "execution_count": null,
      "outputs": [
        {
          "output_type": "stream",
          "name": "stdout",
          "text": [
            "[[1 2]\n",
            " [3 4]]\n",
            "[1 2 3 4]\n",
            "[array([[0],\n",
            "       [3]]), array([[1],\n",
            "       [4]]), array([[2],\n",
            "       [5]])]\n"
          ]
        }
      ]
    },
    {
      "cell_type": "code",
      "source": [
        "import numpy as np\n",
        "array_2d = np.array([[1, 2], [3, 4], [5, 6]])\n",
        "print(array_2d)"
      ],
      "metadata": {
        "colab": {
          "base_uri": "https://localhost:8080/"
        },
        "id": "bjKmQncLZc4F",
        "outputId": "16e124ec-aefd-4eed-e234-501447ac61ea"
      },
      "execution_count": null,
      "outputs": [
        {
          "output_type": "stream",
          "name": "stdout",
          "text": [
            "[[1 2]\n",
            " [3 4]\n",
            " [5 6]]\n"
          ]
        }
      ]
    },
    {
      "cell_type": "code",
      "source": [
        "import numpy as np\n",
        "array = np.array([1, 2, 3, 4, 5])\n",
        "new_array = array + 10\n",
        "print(new_array)"
      ],
      "metadata": {
        "colab": {
          "base_uri": "https://localhost:8080/"
        },
        "id": "42W8UTT0gqoI",
        "outputId": "c6b2daaf-06b6-4a50-d3cd-8795650af6a7"
      },
      "execution_count": null,
      "outputs": [
        {
          "output_type": "stream",
          "name": "stdout",
          "text": [
            "[11 12 13 14 15]\n"
          ]
        }
      ]
    },
    {
      "cell_type": "code",
      "source": [
        "import numpy as np\n",
        "array_2d = np.array([[1, 2], [3, 4], [5, 6]])\n",
        "column_sum = np.sum(array_2d, axis=0)\n",
        "print(column_sum)"
      ],
      "metadata": {
        "colab": {
          "base_uri": "https://localhost:8080/"
        },
        "id": "XF4V72blhB7I",
        "outputId": "760a3869-c8b5-46ee-9968-89021330cf92"
      },
      "execution_count": null,
      "outputs": [
        {
          "output_type": "stream",
          "name": "stdout",
          "text": [
            "[ 9 12]\n"
          ]
        }
      ]
    },
    {
      "cell_type": "code",
      "source": [],
      "metadata": {
        "id": "Q-tz7ZZThRY4"
      },
      "execution_count": null,
      "outputs": []
    }
  ]
}