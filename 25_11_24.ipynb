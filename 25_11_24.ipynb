{
  "nbformat": 4,
  "nbformat_minor": 0,
  "metadata": {
    "colab": {
      "provenance": []
    },
    "kernelspec": {
      "name": "python3",
      "display_name": "Python 3"
    },
    "language_info": {
      "name": "python"
    }
  },
  "cells": [
    {
      "cell_type": "code",
      "execution_count": null,
      "metadata": {
        "colab": {
          "base_uri": "https://localhost:8080/"
        },
        "collapsed": true,
        "id": "QsevJZjInd5w",
        "outputId": "4beb5a99-4787-4515-dc26-be17030bc9c8"
      },
      "outputs": [
        {
          "output_type": "stream",
          "name": "stdout",
          "text": [
            "\n",
            "\n",
            "For studnet  1\n",
            "enter your name gourab\n",
            "enter your id 33\n",
            "enter your deptartment name cse\n",
            "\n",
            "\n",
            " studnet name is:gourab\n",
            " student id is:33\n",
            " student department is:cse\n",
            "\n",
            "\n",
            "For studnet  2\n",
            "enter your name arhot\n",
            "enter your id 33\n",
            "enter your deptartment name eee\n",
            "\n",
            "\n",
            " studnet name is:arhot\n",
            " student id is:33\n",
            " student department is:eee\n"
          ]
        }
      ],
      "source": [
        "class student():\n",
        "  def __init__(self,name,id,dept):\n",
        "    self.name=name\n",
        "    self.id=id\n",
        "    self.dept=dept\n",
        "  def show(self):\n",
        "    print(\"\\n\")\n",
        "    return f\" studnet name is:{self.name}\\n student id is:{self.id}\\n student department is:{self.dept}\"\n",
        "\n",
        "for i in range(2):\n",
        "  print(\"\\n\")\n",
        "  print(\"For studnet \",i+1)\n",
        "  n=input(\"enter your name \")\n",
        "  id=int(input(\"enter your id \"))\n",
        "  de=input(\"enter your deptartment name \")\n",
        "  r=student(n,id,de)\n",
        "  print(r.show())\n",
        "\n",
        "\n"
      ]
    },
    {
      "cell_type": "code",
      "source": [
        "#exercise 5 not solved\n",
        "class Rectangle():\n",
        "  def __init__(self,len,weight):\n",
        "    self.len=len\n",
        "    self.weight=weight\n",
        "  def area(self):\n",
        "    return f\"Area of the rectangle is {self.len*self.weight}\"\n",
        "  def perimeter(self):\n",
        "    return f\"Perimeter of the rectangle is {2*(self.len+self.weight)}\"\n",
        "\n",
        "s=Rectangle(5,6)\n",
        "print(s.area())\n",
        "print(s.perimeter())"
      ],
      "metadata": {
        "colab": {
          "base_uri": "https://localhost:8080/"
        },
        "id": "uXlGGDehUYYd",
        "outputId": "74309062-9396-4e25-bcec-d0d63e832b31"
      },
      "execution_count": null,
      "outputs": [
        {
          "output_type": "stream",
          "name": "stdout",
          "text": [
            "Area of the rectangle is 30\n",
            "Perimeter of the rectangle is 22\n"
          ]
        }
      ]
    },
    {
      "cell_type": "code",
      "source": [
        "class Bankaccount():\n",
        "  def __init__(self,acc_no,balance):\n",
        "    self.acc_no=acc_no\n",
        "    self.balance=balance\n",
        "  def deposit(self,amount):\n",
        "    am=self.balance+amount\n",
        "    return am\n",
        "\n",
        "  def withdraw(self,amount):\n",
        "    if self.balance<amount:\n",
        "      return \"balance nai\"\n",
        "    else:\n",
        "        am=self.balance-amount\n",
        "        return am\n",
        "  def get_balance(self):\n",
        "    return self.balance\n",
        "b=Bankaccount(12345,0)\n",
        "print(\"main balance is: \",b.get_balance())\n",
        "print(\"after deposit the balance is: \",b.deposit(10))\n",
        "print(\"after withdraw the balance is: \",b.withdraw(10))\n",
        "\n",
        "\n"
      ],
      "metadata": {
        "colab": {
          "base_uri": "https://localhost:8080/"
        },
        "id": "OkBYcK4wVNmk",
        "outputId": "a107eff2-d5e5-49f8-dec9-90a0e925444a"
      },
      "execution_count": null,
      "outputs": [
        {
          "output_type": "stream",
          "name": "stdout",
          "text": [
            "main balance is:  0\n",
            "after deposit the balance is:  10\n",
            "after withdraw the balance is:  balance nai\n"
          ]
        }
      ]
    }
  ]
}