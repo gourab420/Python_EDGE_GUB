{
  "nbformat": 4,
  "nbformat_minor": 0,
  "metadata": {
    "colab": {
      "provenance": []
    },
    "kernelspec": {
      "name": "python3",
      "display_name": "Python 3"
    },
    "language_info": {
      "name": "python"
    }
  },
  "cells": [
    {
      "cell_type": "code",
      "execution_count": null,
      "metadata": {
        "colab": {
          "base_uri": "https://localhost:8080/"
        },
        "id": "gtsQTbgYK2Ge",
        "outputId": "f48884de-e502-443f-d0d8-267d69658791"
      },
      "outputs": [
        {
          "output_type": "stream",
          "name": "stdout",
          "text": [
            "this is inter dept programming of c.s.e department\n"
          ]
        }
      ],
      "source": [
        "class Gub:\n",
        "  def __init__(self,dept):\n",
        "    self.dept=dept\n",
        "  def show(self):\n",
        "    return self.dept\n",
        "class Cse(Gub):\n",
        "  def programmint(self):\n",
        "    return f\"this is inter dept programming of {self.dept}\"\n",
        "\n",
        "t=Cse(\"c.s.e department\")\n",
        "print(t.programmint())"
      ]
    },
    {
      "cell_type": "code",
      "source": [
        "#single inheritance\n",
        "class A:\n",
        "  def __init__(self,name):\n",
        "    self.name=name\n",
        "  def aa(self):\n",
        "    return f\"aida calss A ar method access kortasi {self.name} thaka\"\n",
        "class B(A):\n",
        "  def bb(self):\n",
        "    return f\" aida class B ar method access kortasi {self.name} thaka\"\n",
        "g=B(\"B\")\n",
        "print(g.aa())\n",
        "print(g.bb())"
      ],
      "metadata": {
        "colab": {
          "base_uri": "https://localhost:8080/"
        },
        "id": "C7GT2zHcQht_",
        "outputId": "9d4477da-56ec-455b-dfdc-7e22cd2503ed"
      },
      "execution_count": null,
      "outputs": [
        {
          "output_type": "stream",
          "name": "stdout",
          "text": [
            "aida calss A ar method access kortasi B thaka\n",
            " aida class B ar method access kortasi B thaka\n"
          ]
        }
      ]
    },
    {
      "cell_type": "code",
      "source": [
        "#multilevel\n",
        "class A:\n",
        "  def __init__(self,name):\n",
        "    self.name=name\n",
        "  def aa(self):\n",
        "    return f\"aida calss A ar method access kortasi {self.name} thaka\"\n",
        "class B(A):\n",
        "  def bb(self):\n",
        "    return f\" aida class B ar method access kortasi {self.name} thaka\"\n",
        "class c(B):\n",
        "  def cc(self):\n",
        "    return f\" aida class C ar method access kortasi {self.name} thaka\"\n",
        "\n",
        "h=A(\"A\")\n",
        "print(h.aa())\n",
        "\n",
        "i=B(\"B\")\n",
        "print(i.bb())\n",
        "print(i.aa())\n",
        "\n",
        "j=c(\"C\")\n",
        "print(j.cc())\n",
        "print(j.aa())\n",
        "print(j.bb())"
      ],
      "metadata": {
        "colab": {
          "base_uri": "https://localhost:8080/"
        },
        "id": "NppfYj2iVJwe",
        "outputId": "1e4574bb-2344-46eb-f869-92bf53811c9d"
      },
      "execution_count": null,
      "outputs": [
        {
          "output_type": "stream",
          "name": "stdout",
          "text": [
            "aida calss A ar method access kortasi A thaka\n",
            " aida class B ar method access kortasi B thaka\n",
            "aida calss A ar method access kortasi B thaka\n",
            " aida class C ar method access kortasi C thaka\n",
            "aida calss A ar method access kortasi C thaka\n",
            " aida class B ar method access kortasi C thaka\n"
          ]
        }
      ]
    },
    {
      "cell_type": "code",
      "source": [
        "#hybride\n",
        "class A:\n",
        "  def __init__(self,name):\n",
        "    self.name=name\n",
        "  def aa(self):\n",
        "    return f\"aida calss A ar method access kortasi {self.name} thaka\"\n",
        "class B(A):\n",
        "  def bb(self):\n",
        "    return f\" aida class B ar method access kortasi {self.name} thaka\"\n",
        "class c(A):\n",
        "  def cc(self):\n",
        "    return f\" aida class C ar method access kortasi {self.name} thaka\"\n",
        "class D(B):\n",
        "  def dd(self):\n",
        "    return f\" aida class D ar method access kortasi {self.name} thaka\"\n",
        "h=A(\"A\")\n",
        "print(h.aa())\n",
        "\n",
        "i=B(\"B\")\n",
        "print(i.bb())\n",
        "print(i.aa())\n",
        "\n",
        "j=c(\"C\")\n",
        "print(j.cc())\n",
        "print(j.aa())\n",
        "\n",
        "k=D(\"D\")\n",
        "print(k.dd())\n",
        "print(k.bb())\n",
        "print(k.aa())\n"
      ],
      "metadata": {
        "colab": {
          "base_uri": "https://localhost:8080/"
        },
        "id": "e6U49NcAUDoJ",
        "outputId": "c68614b1-8018-49c7-af69-37966302ed36"
      },
      "execution_count": null,
      "outputs": [
        {
          "output_type": "stream",
          "name": "stdout",
          "text": [
            "aida calss A ar method access kortasi A thaka\n",
            " aida class B ar method access kortasi B thaka\n",
            "aida calss A ar method access kortasi B thaka\n",
            " aida class C ar method access kortasi C thaka\n",
            "aida calss A ar method access kortasi C thaka\n",
            " aida class D ar method access kortasi D thaka\n",
            " aida class B ar method access kortasi D thaka\n",
            "aida calss A ar method access kortasi D thaka\n"
          ]
        }
      ]
    },
    {
      "cell_type": "code",
      "source": [
        "# Multiple\n",
        "class A:\n",
        "    def __init__(self, name):\n",
        "        self.name = name\n",
        "    def aa(self):\n",
        "        return f\"aida super class A ar method access kortasi {self.name} thaka\"\n",
        "class B:\n",
        "    def __init__(self, name):\n",
        "        self.name = name\n",
        "    def bb(self):\n",
        "        return f\"aida super class B ar method access kortasi {self.name} thaka\"\n",
        "\n",
        "class C(A, B):\n",
        "    def __init__(self, name_a, name_b):\n",
        "        A.__init__(self, name_a)\n",
        "        B.__init__(self, name_b)\n",
        "    def cc(self):\n",
        "        return f\"aida class C ar method access kortasi {self.name} thaka\"\n",
        "\n",
        "\n",
        "j = C('C','C')\n",
        "print(j.cc())\n",
        "print(j.aa())\n",
        "print(j.bb())\n"
      ],
      "metadata": {
        "colab": {
          "base_uri": "https://localhost:8080/"
        },
        "id": "V5-UD-QDV2Fc",
        "outputId": "854d9800-28e6-4ff7-987b-b403c0f079fb"
      },
      "execution_count": null,
      "outputs": [
        {
          "output_type": "stream",
          "name": "stdout",
          "text": [
            "aida class C ar method access kortasi C thaka\n",
            "aida super class A ar method access kortasi C thaka\n",
            "aida super class B ar method access kortasi C thaka\n"
          ]
        }
      ]
    }
  ]
}